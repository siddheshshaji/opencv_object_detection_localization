{
 "cells": [
  {
   "cell_type": "code",
   "execution_count": 7,
   "metadata": {},
   "outputs": [],
   "source": [
    "import cv2 \n",
    "import numpy as np\n",
    "import datetime"
   ]
  },
  {
   "cell_type": "markdown",
   "metadata": {},
   "source": [
    "# Read and display images"
   ]
  },
  {
   "cell_type": "code",
   "execution_count": 158,
   "metadata": {},
   "outputs": [],
   "source": [
    "# Read the image using imread()\n",
    "\n",
    "sid_bw = cv2.imread('/Users/siddhesh/Desktop/pics/kerala/sid.jpg',0) # 0 for black and white image\n",
    "sid_col = cv2.imread('/Users/siddhesh/Desktop/pics/kerala/pic.jpg',1) # 1 for coloured"
   ]
  },
  {
   "cell_type": "code",
   "execution_count": 159,
   "metadata": {},
   "outputs": [
    {
     "data": {
      "text/plain": [
       "((1944, 2592), (780, 1040, 3))"
      ]
     },
     "execution_count": 159,
     "metadata": {},
     "output_type": "execute_result"
    }
   ],
   "source": [
    "sid_bw.shape, sid_col.shape"
   ]
  },
  {
   "cell_type": "code",
   "execution_count": 160,
   "metadata": {},
   "outputs": [],
   "source": [
    "# Display the image using imshow()\n",
    "\n",
    "cv2.imshow('Siddhesh', sid_bw)\n",
    "cv2.waitKey(0)\n",
    "cv2.destroyAllWindows()"
   ]
  },
  {
   "cell_type": "markdown",
   "metadata": {},
   "source": [
    "# Save/write image"
   ]
  },
  {
   "cell_type": "code",
   "execution_count": 161,
   "metadata": {},
   "outputs": [
    {
     "data": {
      "text/plain": [
       "True"
      ]
     },
     "execution_count": 161,
     "metadata": {},
     "output_type": "execute_result"
    }
   ],
   "source": [
    "# Save the image using imwrite()\n",
    "\n",
    "cv2.imwrite('Sidbw.png',sid_bw)"
   ]
  },
  {
   "cell_type": "markdown",
   "metadata": {},
   "source": [
    "# Destroy windows and save images based on keyboard inputs \n"
   ]
  },
  {
   "cell_type": "code",
   "execution_count": 162,
   "metadata": {},
   "outputs": [],
   "source": [
    "cv2.imshow('Siddhesh', sid_bw)\n",
    "k = cv2.waitKey(0)\n",
    "if k == 27:                          # 27 is escape key\n",
    "    cv2.destroyAllWindows()\n",
    "elif k == ord('s'):\n",
    "    cv2.imwrite('Sidbw.png',sid_bw)\n",
    "    cv2.destroyAllWindows()"
   ]
  },
  {
   "cell_type": "markdown",
   "metadata": {},
   "source": [
    "# Video "
   ]
  },
  {
   "cell_type": "code",
   "execution_count": 163,
   "metadata": {},
   "outputs": [],
   "source": [
    "# Coloured video capture using webcam\n",
    "\n",
    "cap = cv2.VideoCapture(0)\n",
    "\n",
    "while(True):\n",
    "    ret,frame = cap.read()\n",
    "    cv2.imshow('Frame',frame)\n",
    "    if cv2.waitKey(1) & 0xFF == ord('q'):\n",
    "        break\n",
    "\n",
    "cap.release()\n",
    "cv2.destroyAllWindows()"
   ]
  },
  {
   "cell_type": "code",
   "execution_count": 164,
   "metadata": {},
   "outputs": [],
   "source": [
    "# B and W video capture using webcam\n",
    "\n",
    "cap = cv2.VideoCapture(0)\n",
    "\n",
    "while(True):\n",
    "    ret,frame = cap.read()\n",
    "    grey = cv2.cvtColor(frame,cv2.COLOR_BGR2GRAY)\n",
    "    cv2.imshow('Frame',grey)\n",
    "    #print(cap.get(cv2.CAP_PROP_FRAME_HEIGHT))\n",
    "    #print(cap.get(cv2.CAP_PROP_FRAME_WIDTH))\n",
    "    if cv2.waitKey(1) & 0xFF == ord('q'):\n",
    "        break\n",
    "\n",
    "cap.release()\n",
    "cv2.destroyAllWindows()"
   ]
  },
  {
   "cell_type": "code",
   "execution_count": 203,
   "metadata": {},
   "outputs": [],
   "source": [
    "# Save the video through webcam\n",
    "\n",
    "fourcc = cv2.VideoWriter_fourcc(*'XVID')\n",
    "out = cv2.VideoWriter('video.mp4',fourcc, 20,(1280,720))\n",
    "\n",
    "# Coloured video\n",
    "\n",
    "cap = cv2.VideoCapture(0)\n",
    "\n",
    "while(True):\n",
    "    ret,frame = cap.read()\n",
    "    out.write(frame)\n",
    "    cv2.imshow('Frame',frame)\n",
    "    if cv2.waitKey(1) & 0xFF == ord('q'):\n",
    "        break\n",
    "\n",
    "cap.release()\n",
    "out.release()\n",
    "cv2.destroyAllWindows()"
   ]
  },
  {
   "cell_type": "markdown",
   "metadata": {},
   "source": [
    "# Draw shapes on images"
   ]
  },
  {
   "cell_type": "code",
   "execution_count": 14,
   "metadata": {},
   "outputs": [],
   "source": [
    "sid_col = cv2.imread('/Users/siddhesh/Desktop/pics/kerala/sid.jpg',1) # 1 for coloured"
   ]
  },
  {
   "cell_type": "code",
   "execution_count": 23,
   "metadata": {},
   "outputs": [],
   "source": [
    "# LINE, ARROWED LINE, RECTANGLE, CIRCLE\n",
    "\n",
    "sid_col = cv2.line(sid_col, (45,90),(128,490),(255,0,0),5)\n",
    "sid_arrow = cv2.arrowedLine(sid_col, (95,100),(128,490),(0,13,55),5)\n",
    "sid_rectangle = cv2.rectangle(sid_arrow, (95,100),(128,490),(25,113,155),5)\n",
    "sid_circle = cv2.circle(sid_rectangle,(128,490),50, (25,113,155),5)\n",
    "\n",
    "cv2.imshow('Siddhesh', sid_circle)\n",
    "cv2.waitKey(0)\n",
    "cv2.destroyAllWindows()                                               "
   ]
  },
  {
   "cell_type": "code",
   "execution_count": 8,
   "metadata": {},
   "outputs": [],
   "source": [
    "img = np.zeros([512,512,3],np.uint8)\n",
    "img = cv2.line(img, (45,90),(128,490),(255,0,0),5)\n",
    "img = cv2.arrowedLine(img, (95,100),(128,490),(0,0,255),5)\n",
    "img = cv2.rectangle(img, (95,100),(128,490),(25,113,155),5)\n",
    "img = cv2.circle(img,(128,490),50, (25,113,155),5)\n",
    "img = cv2.putText(img, 'Siddhesh',(31,162),cv2.FONT_HERSHEY_COMPLEX,2,(123,111,4),5,cv2.LINE_AA)\n",
    "\n",
    "cv2.imshow('Siddhesh', img)\n",
    "cv2.waitKey(0)\n",
    "cv2.destroyAllWindows() "
   ]
  },
  {
   "cell_type": "code",
   "execution_count": 10,
   "metadata": {},
   "outputs": [],
   "source": [
    "# Display live Date and time on webcam video\n",
    "\n",
    "cap = cv2.VideoCapture(0)\n",
    "\n",
    "while(True):\n",
    "    ret,frame = cap.read()\n",
    "    date_time = str(datetime.datetime.now())\n",
    "    img = cv2.putText(frame, date_time,(31,30),cv2.FONT_HERSHEY_COMPLEX,2,(123,111,4),5,cv2.LINE_AA)\n",
    "    cv2.imshow('Frame',img)\n",
    "    if cv2.waitKey(1) & 0xFF == ord('q'):\n",
    "        break\n",
    "\n",
    "cap.release()\n",
    "cv2.destroyAllWindows()"
   ]
  },
  {
   "cell_type": "markdown",
   "metadata": {},
   "source": [
    "# EVENTS in cv2"
   ]
  },
  {
   "cell_type": "code",
   "execution_count": 22,
   "metadata": {},
   "outputs": [
    {
     "data": {
      "text/plain": [
       "['EVENT_FLAG_ALTKEY',\n",
       " 'EVENT_FLAG_CTRLKEY',\n",
       " 'EVENT_FLAG_LBUTTON',\n",
       " 'EVENT_FLAG_MBUTTON',\n",
       " 'EVENT_FLAG_RBUTTON',\n",
       " 'EVENT_FLAG_SHIFTKEY',\n",
       " 'EVENT_LBUTTONDBLCLK',\n",
       " 'EVENT_LBUTTONDOWN',\n",
       " 'EVENT_LBUTTONUP',\n",
       " 'EVENT_MBUTTONDBLCLK',\n",
       " 'EVENT_MBUTTONDOWN',\n",
       " 'EVENT_MBUTTONUP',\n",
       " 'EVENT_MOUSEHWHEEL',\n",
       " 'EVENT_MOUSEMOVE',\n",
       " 'EVENT_MOUSEWHEEL',\n",
       " 'EVENT_RBUTTONDBLCLK',\n",
       " 'EVENT_RBUTTONDOWN',\n",
       " 'EVENT_RBUTTONUP']"
      ]
     },
     "execution_count": 22,
     "metadata": {},
     "output_type": "execute_result"
    }
   ],
   "source": [
    "event = [i for i in dir(cv2) if 'EVENT' in i]\n",
    "event"
   ]
  },
  {
   "cell_type": "code",
   "execution_count": 26,
   "metadata": {},
   "outputs": [],
   "source": [
    "# Drawing lines dynamically on mouse clicks\n",
    "\n",
    "def click_event(events, x, y, flags, params):\n",
    "    if events == cv2.EVENT_LBUTTONDOWN:\n",
    "        cv2.circle(img, (x, y), 4, (255, 0, 0), -1)\n",
    "        points.append((x, y))\n",
    "        if len(points) >= 2:\n",
    "            cv2.line(img, points[-1], points[-2], (0, 255, 0), 5)\n",
    "        cv2.imshow('Image', img)\n",
    "        \n",
    "img = np.zeros((512, 512, 3), np.uint8)\n",
    "\n",
    "cv2.imshow('Image', img)\n",
    "points = []\n",
    "cv2.setMouseCallback('Image', click_event)\n",
    "\n",
    "cv2.waitKey(0)\n",
    "cv2.destroyAllWindows()\n"
   ]
  },
  {
   "cell_type": "markdown",
   "metadata": {},
   "source": [
    "# ARITHMETIC OPERATION ON IMAGES"
   ]
  },
  {
   "cell_type": "code",
   "execution_count": 46,
   "metadata": {},
   "outputs": [],
   "source": [
    "b,g,r = cv2.split(sid_col)"
   ]
  },
  {
   "cell_type": "code",
   "execution_count": 93,
   "metadata": {},
   "outputs": [],
   "source": [
    "# Copy paste roi from one place to another \n",
    "\n",
    "amm = sid_col[210:372, 589:722]     # [y1:y2 , x1:x2]\n",
    "sid_col[359:359+amm.shape[0], 255:255+amm.shape[1]] = amm\n",
    "\n",
    "cv2.imshow('Image', sid_col)\n",
    "cv2.waitKey(0)\n",
    "cv2.destroyAllWindows()"
   ]
  },
  {
   "cell_type": "code",
   "execution_count": 100,
   "metadata": {},
   "outputs": [],
   "source": [
    "# WEIGHTED ADDITION\n",
    "\n",
    "sid_1 = cv2.imread('/Users/siddhesh/Desktop/pics/kerala/sid.jpg',1)\n",
    "sid_2 = cv2.imread('/Users/siddhesh/Desktop/pics/kerala/pic.jpg',1) \n",
    "sid_1 = cv2.resize(sid_1,(512,512))\n",
    "sid_2 = cv2.resize(sid_2,(512,512))\n",
    "\n",
    "dst = cv2.addWeighted(sid_1, 0.5, sid_2, 0.5, 0)\n",
    "cv2.imshow('Image', dst)\n",
    "cv2.waitKey(0)\n",
    "cv2.destroyAllWindows()"
   ]
  },
  {
   "cell_type": "code",
   "execution_count": 109,
   "metadata": {},
   "outputs": [],
   "source": [
    "# Bit wise operations\n",
    "\n",
    "img = np.zeros((512, 512, 3), np.uint8)\n",
    "img = cv2.rectangle(img, (200,0), (312,100), (255,255,255), -1)\n",
    "\n",
    "img1 = np.zeros((512, 512, 3), np.uint8)\n",
    "img1 = cv2.rectangle(img1, (256,0), (512,512), (255,255,255), -1)\n",
    "\n",
    "bitAnd = cv2.bitwise_and(img, img1)\n",
    "bitOr = cv2.bitwise_or(img, img1)\n",
    "bitNot = cv2.bitwise_not(img)\n",
    "bitXor = cv2.bitwise_xor(img, img1)\n",
    "\n",
    "cv2.imshow('Image', bitNot)\n",
    "cv2.waitKey(0)\n",
    "cv2.destroyAllWindows()"
   ]
  },
  {
   "cell_type": "code",
   "execution_count": 131,
   "metadata": {},
   "outputs": [],
   "source": [
    "# For blue colour detection\n",
    "\n",
    "l_b = np.array([100, 100, 50])\n",
    "u_b = np.array([255, 255, 255])\n",
    "\n",
    "hsv = cv2.cvtColor(sid_1, cv2.COLOR_BGR2HSV)\n",
    "\n",
    "mask = cv2.inRange(hsv, l_b, u_b)\n",
    "bitAnd = cv2.bitwise_and(sid_1, sid_1, mask=mask)\n",
    "\n",
    "cv2.imshow('Image', mask)\n",
    "cv2.waitKey(0)\n",
    "cv2.destroyAllWindows()"
   ]
  },
  {
   "cell_type": "code",
   "execution_count": 18,
   "metadata": {},
   "outputs": [],
   "source": [
    "# Coloured object detection in video using webcam\n",
    "\n",
    "cap = cv2.VideoCapture(0)\n",
    "\n",
    "while(True):\n",
    "    ret,frame = cap.read()\n",
    "    hsv = cv2.cvtColor(frame, cv2.COLOR_BGR2HSV)\n",
    "    \n",
    "    # red colour\n",
    "    l_red = np.array([161, 155, 84])\n",
    "    h_red = np.array([179, 255, 255])\n",
    "    \n",
    "    red_mask = cv2.inRange(hsv, l_red, h_red)\n",
    "    red = cv2.bitwise_and(frame, frame, mask=red_mask)\n",
    "    \n",
    "    # blue colour\n",
    "    l_blue = np.array([94, 80, 2])\n",
    "    h_blue = np.array([126, 255, 255])\n",
    "    \n",
    "    blue_mask = cv2.inRange(hsv, l_blue, h_blue)\n",
    "    blue = cv2.bitwise_and(frame, frame, mask=blue_mask)\n",
    "    \n",
    "    # green colour\n",
    "    l_green = np.array([25, 52, 72])\n",
    "    h_green = np.array([102, 255, 255])\n",
    "    \n",
    "    green_mask = cv2.inRange(hsv, l_green, h_green)\n",
    "    green = cv2.bitwise_and(frame, frame, mask=green_mask)\n",
    "    \n",
    "    cv2.imshow('Frame',blue)\n",
    "    \n",
    "    if cv2.waitKey(1) & 0xFF == ord('q'):\n",
    "        break\n",
    "\n",
    "cap.release()\n",
    "cv2.destroyAllWindows()"
   ]
  },
  {
   "cell_type": "code",
   "execution_count": 156,
   "metadata": {},
   "outputs": [],
   "source": [
    "# Thresholding\n",
    "\n",
    "sid_1 = cv2.imread('/Users/siddhesh/Desktop/pics/kerala/sid.jpg',0)\n",
    "sid_1 = cv2.resize(sid_1,(512,512))\n",
    "_, th1 = cv2.threshold(sid_1, 127, 255, cv2.THRESH_BINARY)\n",
    "    \n",
    "cv2.imshow('Image', th1)\n",
    "cv2.waitKey(0)\n",
    "cv2.destroyAllWindows()"
   ]
  },
  {
   "cell_type": "code",
   "execution_count": 25,
   "metadata": {},
   "outputs": [],
   "source": [
    "# LAPLACIAN OPERATION\n",
    "\n",
    "sid_1 = cv2.imread('/Users/siddhesh/Desktop/pics/kerala/sid.jpg',0)\n",
    "sid_1 = cv2.resize(sid_1,(1450,812))\n",
    "lap = cv2.Laplacian(sid_1, cv2.CV_64F, ksize = 1)\n",
    "lap = np.uint8(np.absolute(lap))\n",
    "\n",
    "cv2.imshow('Image', lap)\n",
    "cv2.waitKey(0)\n",
    "cv2.destroyAllWindows()"
   ]
  },
  {
   "cell_type": "code",
   "execution_count": 24,
   "metadata": {},
   "outputs": [],
   "source": [
    "# SOBEL X AND Y\n",
    "\n",
    "sid_1 = cv2.imread('/Users/siddhesh/Desktop/pics/kerala/sid.jpg',0)\n",
    "sid_1 = cv2.resize(sid_1,(512,512))\n",
    "SobelX = cv2.Sobel(sid_1, cv2.CV_64F, 1, 0)\n",
    "SobelX = np.uint8(np.absolute(SobelX))\n",
    "\n",
    "cv2.imshow('Image', SobelX)\n",
    "cv2.waitKey(0)\n",
    "cv2.destroyAllWindows()\n",
    "\n",
    "sid_1 = cv2.imread('/Users/siddhesh/Desktop/pics/kerala/sid.jpg',0)\n",
    "sid_1 = cv2.resize(sid_1,(512,512))\n",
    "SobelY = cv2.Sobel(sid_1, cv2.CV_64F, 0, 1)\n",
    "SobelY = np.uint8(np.absolute(SobelY))\n",
    "\n",
    "cv2.imshow('Image', SobelY)\n",
    "cv2.waitKey(0)\n",
    "cv2.destroyAllWindows()"
   ]
  },
  {
   "cell_type": "code",
   "execution_count": 184,
   "metadata": {},
   "outputs": [],
   "source": [
    "# CANNY EDGE DETECTOR\n",
    "\n",
    "sid_1 = cv2.imread('/Users/siddhesh/Desktop/pics/kerala/sid.jpg',0)\n",
    "sid_1 = cv2.resize(sid_1,(512,512))\n",
    "canny = cv2.Canny(sid_1, 10, 150)\n",
    "\n",
    "cv2.imshow('Image', canny)\n",
    "cv2.waitKey(0)\n",
    "cv2.destroyAllWindows()"
   ]
  },
  {
   "cell_type": "code",
   "execution_count": 187,
   "metadata": {},
   "outputs": [],
   "source": [
    "# Pyramids\n",
    "\n",
    "sid_1 = cv2.imread('/Users/siddhesh/Desktop/pics/kerala/sid.jpg',1)\n",
    "sid_1 = cv2.resize(sid_1,(512,512))\n",
    "pyrd = cv2.pyrDown(sid_1)\n",
    "pyru = cv2.pyrUp(sid_1)\n",
    "\n",
    "cv2.imshow('Image', pyrd)\n",
    "cv2.imshow('Image', pyru)\n",
    "cv2.waitKey(0)\n",
    "cv2.destroyAllWindows()"
   ]
  },
  {
   "cell_type": "markdown",
   "metadata": {},
   "source": [
    "# CONTOURS "
   ]
  },
  {
   "cell_type": "code",
   "execution_count": 198,
   "metadata": {},
   "outputs": [
    {
     "name": "stdout",
     "output_type": "stream",
     "text": [
      "1123\n"
     ]
    }
   ],
   "source": [
    "sid_1 = cv2.imread('/Users/siddhesh/Desktop/pics/kerala/sid.jpg',0)\n",
    "sid_1 = cv2.resize(sid_1,(700,612))\n",
    "ret , thresh = cv2.threshold(sid_1, 127, 255, 0)\n",
    "contours, heirarchy = cv2.findContours(thresh, cv2.RETR_TREE, cv2.CHAIN_APPROX_NONE)\n",
    "print(len(contours))\n",
    "\n",
    "cv2.drawContours(sid_1, contours, -1, (0,0,255), 3)\n",
    "cv2.imshow('Image', sid_1)\n",
    "cv2.waitKey(0)\n",
    "cv2.destroyAllWindows()"
   ]
  },
  {
   "cell_type": "markdown",
   "metadata": {},
   "source": [
    "# MOTION DETECTOR USING CONTOUR METHOD"
   ]
  },
  {
   "cell_type": "code",
   "execution_count": 22,
   "metadata": {},
   "outputs": [],
   "source": [
    "#cap = cv2.VideoCapture('/Users/siddhesh/Desktop/video.mp4')\n",
    "cap = cv2.VideoCapture(0)\n",
    "\n",
    "ret, frame1 = cap.read()\n",
    "ret, frame2 = cap.read()\n",
    "\n",
    "while cap.isOpened():\n",
    "    diff = cv2.absdiff(frame1, frame2)\n",
    "    gray = cv2.cvtColor(diff, cv2.COLOR_BGR2GRAY)\n",
    "    blur = cv2.GaussianBlur(gray, (5,5), 0)\n",
    "    _, thresh = cv2.threshold(blur, 80, 255, cv2.THRESH_BINARY)\n",
    "    dilated = cv2.dilate(thresh, None, iterations = 3)\n",
    "    contours, _ = cv2.findContours(dilated, cv2.RETR_TREE, cv2.CHAIN_APPROX_SIMPLE)\n",
    "    \n",
    "    for contour in contours:\n",
    "        (x, y, w, h) = cv2.boundingRect(contour) \n",
    "        \n",
    "        if cv2.contourArea(contour) < 3500:\n",
    "            continue\n",
    "            \n",
    "        cv2.rectangle(frame1, (x, y), (x+w, y+h), (0, 255, 0), 2)\n",
    "            \n",
    "    cv2.drawContours(frame1, contours, -1, (0,0,255), 2)\n",
    "\n",
    "    cv2.imshow(\"frame\", frame1)\n",
    "    frame1 = frame2\n",
    "    ret, frame2 = cap.read()\n",
    "    \n",
    "    if cv2.waitKey(1) & 0xFF == ord('q'):\n",
    "        break\n",
    "\n",
    "cap.release()\n",
    "cv2.destroyAllWindows()\n",
    "    "
   ]
  },
  {
   "cell_type": "markdown",
   "metadata": {},
   "source": [
    "# DETECT SHAPES\n"
   ]
  },
  {
   "cell_type": "code",
   "execution_count": 8,
   "metadata": {},
   "outputs": [],
   "source": [
    "\n",
    "sid_1 = cv2.imread('/Users/siddhesh/Desktop/pics/kerala/sid.jpg',1)\n",
    "sid_1 = cv2.resize(sid_1,(700,612))\n",
    "\n",
    "gray = cv2.cvtColor(sid_1, cv2.COLOR_BGR2GRAY)\n",
    "_, thresh = cv2.threshold(gray, 100, 255, cv2.THRESH_BINARY)\n",
    "contours, _ = cv2.findContours(thresh, cv2.RETR_TREE, cv2.CHAIN_APPROX_NONE)\n",
    "\n",
    "for contour in contours:\n",
    "    approx = cv2.approxPolyDP(contour, 0.01* cv2.arcLength(contour, True), True)\n",
    "    cv2.drawContours(sid_1, [approx], 0, (0, 255, 0), 5)\n",
    "    x = approx.ravel()[0]\n",
    "    y = approx.ravel()[1] - 5\n",
    "    if len(approx) == 3:\n",
    "        cv2.putText(sid_1, \"Traingle\", (x, y), cv2.FONT_HERSHEY_SIMPLEX, 0.5, (0, 255, 0))\n",
    "    if len(approx) == 4:\n",
    "        cv2.putText(sid_1, \"Rectangle\", (x, y), cv2.FONT_HERSHEY_SIMPLEX, 0.5, (0, 255, 0))\n",
    "    if len(approx) == 5:\n",
    "        cv2.putText(sid_1, \"Pentagon\", (x, y), cv2.FONT_HERSHEY_SIMPLEX, 0.5, (0, 255, 0))\n",
    "    else:\n",
    "        cv2.putText(sid_1, \"Circle\", (x, y), cv2.FONT_HERSHEY_SIMPLEX, 0.5, (0, 255, 0))\n",
    "\n",
    "cv2.imshow('Image', sid_1)\n",
    "cv2.waitKey(0)\n",
    "cv2.destroyAllWindows()"
   ]
  },
  {
   "cell_type": "markdown",
   "metadata": {},
   "source": [
    "# BACKGROUND SUBTRACTION"
   ]
  },
  {
   "cell_type": "code",
   "execution_count": 23,
   "metadata": {},
   "outputs": [],
   "source": [
    "cap = cv2.VideoCapture('video.mp4')\n",
    "fgbg = cv2.createBackgroundSubtractorKNN()\n",
    "\n",
    "while True:\n",
    "    ret, frame = cap.read()\n",
    "    \n",
    "    if frame is None:\n",
    "        break\n",
    "    fgmask = fgbg.apply(frame)\n",
    "    \n",
    "    cv2.imshow('Frame', fgmask)\n",
    "    \n",
    "    if cv2.waitKey(1) & 0xFF == ord('q'):\n",
    "        break\n",
    "\n",
    "cap.release()\n",
    "cv2.destroyAllWindows()\n"
   ]
  },
  {
   "cell_type": "markdown",
   "metadata": {},
   "source": [
   ]
  },
  {
   "cell_type": "code",
   "execution_count": null,
   "metadata": {},
   "outputs": [],
   "source": []
  }
 ],
 "metadata": {
  "kernelspec": {
   "display_name": "Python 3",
   "language": "python",
   "name": "python3"
  },
  "language_info": {
   "codemirror_mode": {
    "name": "ipython",
    "version": 3
   },
   "file_extension": ".py",
   "mimetype": "text/x-python",
   "name": "python",
   "nbconvert_exporter": "python",
   "pygments_lexer": "ipython3",
   "version": "3.7.7"
  }
 },
 "nbformat": 4,
 "nbformat_minor": 4
}
